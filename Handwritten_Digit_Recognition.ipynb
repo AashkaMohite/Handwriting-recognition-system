{
  "nbformat": 4,
  "nbformat_minor": 0,
  "metadata": {
    "colab": {
      "name": "Handwritten Digit Recognition.ipynb",
      "provenance": [],
      "collapsed_sections": [
        "eiul2ljkJ2n-",
        "EmgYYVcZ3xZI",
        "DrJubYZP35vH",
        "mCaIm_gNFYZT"
      ]
    },
    "kernelspec": {
      "name": "python3",
      "display_name": "Python 3"
    },
    "language_info": {
      "name": "python"
    }
  },
  "cells": [
    {
      "cell_type": "code",
      "metadata": {
        "id": "Jy-AI_NhSoUg"
      },
      "source": [
        "import matplotlib.pyplot as plt\n",
        "import numpy as np\n",
        "import tensorflow as tf\n",
        "from tensorflow import keras\n",
        "from keras.layers import Dense, Dropout, Flatten"
      ],
      "execution_count": 13,
      "outputs": []
    },
    {
      "cell_type": "markdown",
      "metadata": {
        "id": "eiul2ljkJ2n-"
      },
      "source": [
        "# loading dataset"
      ]
    },
    {
      "cell_type": "code",
      "metadata": {
        "colab": {
          "base_uri": "https://localhost:8080/"
        },
        "id": "zO17N9-YSv30",
        "outputId": "a54fecf0-c33f-4aa2-e5a0-d3a5e857f996"
      },
      "source": [
        "mnist = keras.datasets.mnist\n",
        "(X_train_full, y_train_full), (X_test, y_test) = mnist.load_data()"
      ],
      "execution_count": 2,
      "outputs": [
        {
          "output_type": "stream",
          "name": "stdout",
          "text": [
            "Downloading data from https://storage.googleapis.com/tensorflow/tf-keras-datasets/mnist.npz\n",
            "11493376/11490434 [==============================] - 0s 0us/step\n",
            "11501568/11490434 [==============================] - 0s 0us/step\n"
          ]
        }
      ]
    },
    {
      "cell_type": "code",
      "metadata": {
        "colab": {
          "base_uri": "https://localhost:8080/",
          "height": 284
        },
        "id": "TNZu2PfjTGM6",
        "outputId": "d3291af7-97b7-42f1-beb0-7a2aab0c2ae6"
      },
      "source": [
        "plt.imshow(X_train_full[2])"
      ],
      "execution_count": 4,
      "outputs": [
        {
          "output_type": "execute_result",
          "data": {
            "text/plain": [
              "<matplotlib.image.AxesImage at 0x7fec42c79c50>"
            ]
          },
          "metadata": {},
          "execution_count": 4
        },
        {
          "output_type": "display_data",
          "data": {
            "image/png": "[encoded data removed]",
            "text/plain": [
              "<Figure size 432x288 with 1 Axes>"
            ]
          },
          "metadata": {
            "needs_background": "light"
          }
        }
      ]
    },
    {
      "cell_type": "code",
      "metadata": {
        "colab": {
          "base_uri": "https://localhost:8080/"
        },
        "id": "3JlCPTxcTYfD",
        "outputId": "0e3ae6c7-2c72-4dfa-8550-6b3a85d5b89c"
      },
      "source": [
        "y_train_full[2]"
      ],
      "execution_count": 7,
      "outputs": [
        {
          "output_type": "execute_result",
          "data": {
            "text/plain": [
              "4"
            ]
          },
          "metadata": {},
          "execution_count": 7
        }
      ]
    },
    {
      "cell_type": "markdown",
      "metadata": {
        "id": "EmgYYVcZ3xZI"
      },
      "source": [
        "# Constructing Neural Network"
      ]
    },
    {
      "cell_type": "markdown",
      "metadata": {
        "id": "JUfLvoKaVJLi"
      },
      "source": [
        "### Data Normalization <br>\n"
      ]
    },
    {
      "cell_type": "code",
      "metadata": {
        "id": "aw0W-Lve9TFJ"
      },
      "source": [
        "batch_size = 128\n",
        "num_classes = 10\n",
        "epochs = 10"
      ],
      "execution_count": 8,
      "outputs": []
    },
    {
      "cell_type": "code",
      "metadata": {
        "id": "6Sgk1KENUYuY"
      },
      "source": [
        "X_train_n = X_train_full / 255.\n",
        "X_test_n = X_test / 255."
      ],
      "execution_count": 9,
      "outputs": []
    },
    {
      "cell_type": "markdown",
      "metadata": {
        "id": "dyo-s0nTYGJD"
      },
      "source": [
        "Splitting dataset into train, validation and test "
      ]
    },
    {
      "cell_type": "code",
      "metadata": {
        "id": "Is2wt_RdX4Ia"
      },
      "source": [
        "X_valid, X_train = X_train_n[:30000], X_train_n[30000:]\n",
        "y_valid, y_train = y_train_full[:30000], y_train_full[30000:]\n",
        "X_test = X_test_n"
      ],
      "execution_count": 10,
      "outputs": []
    },
    {
      "cell_type": "markdown",
      "metadata": {
        "id": "H8A0XwZmcdrS"
      },
      "source": [
        "### Building Model \n"
      ]
    },
    {
      "cell_type": "code",
      "metadata": {
        "id": "WB9bG8zJb4AM"
      },
      "source": [
        "model = keras.models.Sequential()\n",
        "model.add(keras.layers.Flatten(input_shape = [28,28]))\n",
        "model.add(Dense(128, activation='relu'))\n",
        "model.add(Dropout(0.3))\n",
        "model.add(Dense(64, activation='relu'))\n",
        "model.add(Dropout(0.5))\n",
        "model.add(Dense(num_classes, activation='softmax'))"
      ],
      "execution_count": 16,
      "outputs": []
    },
    {
      "cell_type": "code",
      "metadata": {
        "colab": {
          "base_uri": "https://localhost:8080/"
        },
        "id": "Ma9-fF1Dr89f",
        "outputId": "39cf92e9-163f-4a50-d584-5d27726ec779"
      },
      "source": [
        "model.summary()"
      ],
      "execution_count": 17,
      "outputs": [
        {
          "output_type": "stream",
          "name": "stdout",
          "text": [
            "Model: \"sequential_2\"\n",
            "_________________________________________________________________\n",
            " Layer (type)                Output Shape              Param #   \n",
            "=================================================================\n",
            " flatten_1 (Flatten)         (None, 784)               0         \n",
            "                                                                 \n",
            " dense_3 (Dense)             (None, 128)               100480    \n",
            "                                                                 \n",
            " dropout_2 (Dropout)         (None, 128)               0         \n",
            "                                                                 \n",
            " dense_4 (Dense)             (None, 64)                8256      \n",
            "                                                                 \n",
            " dropout_3 (Dropout)         (None, 64)                0         \n",
            "                                                                 \n",
            " dense_5 (Dense)             (None, 10)                650       \n",
            "                                                                 \n",
            "=================================================================\n",
            "Total params: 109,386\n",
            "Trainable params: 109,386\n",
            "Non-trainable params: 0\n",
            "_________________________________________________________________\n"
          ]
        }
      ]
    },
    {
      "cell_type": "markdown",
      "metadata": {
        "id": "DrJubYZP35vH"
      },
      "source": [
        "# Training Neural Network\n"
      ]
    },
    {
      "cell_type": "code",
      "metadata": {
        "id": "fEFCm3ha3_ef"
      },
      "source": [
        "model.compile(loss=\"sparse_categorical_crossentropy\",\n",
        "              optimizer=\"adam\",\n",
        "              metrics=[\"accuracy\"])"
      ],
      "execution_count": 27,
      "outputs": []
    },
    {
      "cell_type": "code",
      "metadata": {
        "id": "n8BhR-zO7nES",
        "colab": {
          "base_uri": "https://localhost:8080/"
        },
        "outputId": "8cbc8a66-27a7-4bf4-970b-b9f3a6aa4d74"
      },
      "source": [
        "hist = model.fit(X_train, y_train,\n",
        "                 batch_size=batch_size,\n",
        "                 epochs=epochs,\n",
        "                 verbose=1,\n",
        "                 validation_data=(X_valid, y_valid))"
      ],
      "execution_count": 28,
      "outputs": [
        {
          "output_type": "stream",
          "name": "stdout",
          "text": [
            "Epoch 1/10\n",
            "235/235 [==============================] - 2s 6ms/step - loss: 0.4602 - accuracy: 0.8643 - val_loss: 0.2337 - val_accuracy: 0.9317\n",
            "Epoch 2/10\n",
            "235/235 [==============================] - 2s 6ms/step - loss: 0.3245 - accuracy: 0.9081 - val_loss: 0.1855 - val_accuracy: 0.9450\n",
            "Epoch 3/10\n",
            "235/235 [==============================] - 1s 5ms/step - loss: 0.2646 - accuracy: 0.9260 - val_loss: 0.1652 - val_accuracy: 0.9510\n",
            "Epoch 4/10\n",
            "235/235 [==============================] - 1s 5ms/step - loss: 0.2234 - accuracy: 0.9374 - val_loss: 0.1464 - val_accuracy: 0.9565\n",
            "Epoch 5/10\n",
            "235/235 [==============================] - 1s 6ms/step - loss: 0.2012 - accuracy: 0.9420 - val_loss: 0.1418 - val_accuracy: 0.9587\n",
            "Epoch 6/10\n",
            "235/235 [==============================] - 2s 7ms/step - loss: 0.1796 - accuracy: 0.9490 - val_loss: 0.1406 - val_accuracy: 0.9586\n",
            "Epoch 7/10\n",
            "235/235 [==============================] - 1s 5ms/step - loss: 0.1646 - accuracy: 0.9534 - val_loss: 0.1250 - val_accuracy: 0.9634\n",
            "Epoch 8/10\n",
            "235/235 [==============================] - 1s 5ms/step - loss: 0.1532 - accuracy: 0.9555 - val_loss: 0.1205 - val_accuracy: 0.9659\n",
            "Epoch 9/10\n",
            "235/235 [==============================] - 2s 6ms/step - loss: 0.1458 - accuracy: 0.9592 - val_loss: 0.1190 - val_accuracy: 0.9657\n",
            "Epoch 10/10\n",
            "235/235 [==============================] - 1s 5ms/step - loss: 0.1310 - accuracy: 0.9616 - val_loss: 0.1214 - val_accuracy: 0.9659\n"
          ]
        }
      ]
    },
    {
      "cell_type": "code",
      "metadata": {
        "colab": {
          "base_uri": "https://localhost:8080/",
          "height": 324
        },
        "id": "3f5g_d_SB63v",
        "outputId": "24834ccb-8982-45d4-e876-6eb40cda72d1"
      },
      "source": [
        "import pandas as pd\n",
        "\n",
        "pd.DataFrame(hist.history).plot(figsize = (8,5))\n",
        "plt.grid(True)\n",
        "plt.gca().set_ylim(0, 1)\n",
        "plt.show()"
      ],
      "execution_count": 32,
      "outputs": [
        {
          "output_type": "display_data",
          "data": {
            "image/png": "[encoded data removed]",
            "text/plain": [
              "<Figure size 576x360 with 1 Axes>"
            ]
          },
          "metadata": {
            "needs_background": "light"
          }
        }
      ]
    },
    {
      "cell_type": "markdown",
      "metadata": {
        "id": "mCaIm_gNFYZT"
      },
      "source": [
        "# Evaluating and Predicting the model's performance"
      ]
    },
    {
      "cell_type": "code",
      "metadata": {
        "colab": {
          "base_uri": "https://localhost:8080/"
        },
        "id": "JKemBk7gDB99",
        "outputId": "31ac1a5c-0c58-4b72-a308-ece25dd127b5"
      },
      "source": [
        "score = model.evaluate(X_test, y_test)"
      ],
      "execution_count": 40,
      "outputs": [
        {
          "output_type": "stream",
          "name": "stdout",
          "text": [
            "313/313 [==============================] - 0s 1ms/step - loss: 0.1094 - accuracy: 0.9681\n"
          ]
        }
      ]
    },
    {
      "cell_type": "code",
      "metadata": {
        "colab": {
          "base_uri": "https://localhost:8080/"
        },
        "id": "U4QvIJDPALBm",
        "outputId": "0fcb44c7-4ab2-45f1-8d34-34d03feaf5d9"
      },
      "source": [
        "print('Test loss:', score[0])\n",
        "print('Test accuracy:', score[1])"
      ],
      "execution_count": 41,
      "outputs": [
        {
          "output_type": "stream",
          "name": "stdout",
          "text": [
            "Test loss: 0.10940811783075333\n",
            "Test accuracy: 0.9681000113487244\n"
          ]
        }
      ]
    },
    {
      "cell_type": "code",
      "metadata": {
        "id": "2BL4VaMvFgVi"
      },
      "source": [
        "X_new = X_test[:3]"
      ],
      "execution_count": 34,
      "outputs": []
    },
    {
      "cell_type": "code",
      "metadata": {
        "colab": {
          "base_uri": "https://localhost:8080/"
        },
        "id": "ggV3XwqyGKzf",
        "outputId": "a9d5b386-9510-45b6-b1a6-b4be20d5a7c6"
      },
      "source": [
        "y_proba = model.predict(X_new)\n",
        "y_proba.round(2)"
      ],
      "execution_count": 35,
      "outputs": [
        {
          "output_type": "execute_result",
          "data": {
            "text/plain": [
              "array([[0., 0., 0., 0., 0., 0., 0., 1., 0., 0.],\n",
              "       [0., 0., 1., 0., 0., 0., 0., 0., 0., 0.],\n",
              "       [0., 1., 0., 0., 0., 0., 0., 0., 0., 0.]], dtype=float32)"
            ]
          },
          "metadata": {},
          "execution_count": 35
        }
      ]
    },
    {
      "cell_type": "code",
      "metadata": {
        "colab": {
          "base_uri": "https://localhost:8080/"
        },
        "id": "ZcVYsa13Hac2",
        "outputId": "30cdfc13-e822-44d8-f11a-dae69d4206d4"
      },
      "source": [
        "y_pred = np.argmax(model.predict(X_new), axis=-1)\n",
        "y_pred"
      ],
      "execution_count": 36,
      "outputs": [
        {
          "output_type": "execute_result",
          "data": {
            "text/plain": [
              "array([7, 2, 1])"
            ]
          },
          "metadata": {},
          "execution_count": 36
        }
      ]
    },
    {
      "cell_type": "code",
      "metadata": {
        "colab": {
          "base_uri": "https://localhost:8080/",
          "height": 284
        },
        "id": "52jaAXinIqZy",
        "outputId": "308a6c8a-0645-40bb-9edd-d71ec53799b3"
      },
      "source": [
        "print(plt.imshow(X_test[0]))"
      ],
      "execution_count": 39,
      "outputs": [
        {
          "output_type": "stream",
          "name": "stdout",
          "text": [
            "AxesImage(54,36;334.8x217.44)\n"
          ]
        },
        {
          "output_type": "display_data",
          "data": {
            "image/png": "[encoded data removed]",
            "text/plain": [
              "<Figure size 432x288 with 1 Axes>"
            ]
          },
          "metadata": {
            "needs_background": "light"
          }
        }
      ]
    },
    {
      "cell_type": "code",
      "metadata": {
        "id": "jM3YXOMBADp3"
      },
      "source": [
        "model.save(\"Handwritten digit recognizer.h5\")"
      ],
      "execution_count": 42,
      "outputs": []
    }
  ]
}